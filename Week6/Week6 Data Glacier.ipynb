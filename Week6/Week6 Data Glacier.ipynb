{
 "cells": [
  {
   "cell_type": "code",
   "execution_count": 3,
   "id": "67978507",
   "metadata": {},
   "outputs": [],
   "source": [
    "import os\n",
    "import time\n",
    "#import modin.pandas as pd\n",
    "\n",
    "\n",
    "\n"
   ]
  },
  {
   "cell_type": "code",
   "execution_count": 4,
   "id": "0ee25c01",
   "metadata": {},
   "outputs": [
    {
     "data": {
      "text/plain": [
       "13899"
      ]
     },
     "execution_count": 4,
     "metadata": {},
     "output_type": "execute_result"
    }
   ],
   "source": [
    "os.path.getsize('E:\\Anitha\\Data_Glacier\\GitHub\\VC\\Week6\\Rate.csv')"
   ]
  },
  {
   "cell_type": "code",
   "execution_count": 5,
   "id": "1ab2f42a",
   "metadata": {},
   "outputs": [
    {
     "name": "stdout",
     "output_type": "stream",
     "text": [
      "Read csv with dask:  0.16183996200561523 sec\n"
     ]
    }
   ],
   "source": [
    "#Read in the data with Dask\n",
    "from dask import dataframe as dd\n",
    "start = time.time()\n",
    "dask_df = dd.read_csv('E:\\Anitha\\Data_Glacier\\GitHub\\VC\\Week6\\Rate.csv')\n",
    "end = time.time()\n",
    "print(\"Read csv with dask: \",(end-start),\"sec\")"
   ]
  },
  {
   "cell_type": "code",
   "execution_count": 6,
   "id": "a0f83cf3",
   "metadata": {},
   "outputs": [
    {
     "name": "stdout",
     "output_type": "stream",
     "text": [
      "Read csv with pandas:  0.016956806182861328 sec\n"
     ]
    }
   ],
   "source": [
    "#Read in the data with Pandas\n",
    "import pandas as pd\n",
    "start = time.time()\n",
    "df = pd.read_csv('E:\\Anitha\\Data_Glacier\\GitHub\\VC\\Week6\\Rate.csv')\n",
    "end = time.time()\n",
    "print(\"Read csv with pandas: \",(end-start),\"sec\")"
   ]
  },
  {
   "cell_type": "code",
   "execution_count": 7,
   "id": "d18f6427",
   "metadata": {},
   "outputs": [
    {
     "name": "stdout",
     "output_type": "stream",
     "text": [
      "Requirement already satisfied: modin in c:\\users\\sazha\\anaconda3\\lib\\site-packages (0.16.2)\n",
      "Requirement already satisfied: fsspec in c:\\users\\sazha\\anaconda3\\lib\\site-packages (from modin) (2021.10.1)\n",
      "Requirement already satisfied: psutil in c:\\users\\sazha\\anaconda3\\lib\\site-packages (from modin) (5.8.0)\n",
      "Requirement already satisfied: numpy>=1.18.5 in c:\\users\\sazha\\anaconda3\\lib\\site-packages (from modin) (1.20.3)\n",
      "Requirement already satisfied: pandas==1.5.1 in c:\\users\\sazha\\anaconda3\\lib\\site-packages (from modin) (1.5.1)\n",
      "Requirement already satisfied: packaging in c:\\users\\sazha\\anaconda3\\lib\\site-packages (from modin) (21.0)\n",
      "Requirement already satisfied: pytz>=2020.1 in c:\\users\\sazha\\anaconda3\\lib\\site-packages (from pandas==1.5.1->modin) (2021.3)\n",
      "Requirement already satisfied: python-dateutil>=2.8.1 in c:\\users\\sazha\\anaconda3\\lib\\site-packages (from pandas==1.5.1->modin) (2.8.2)\n",
      "Requirement already satisfied: six>=1.5 in c:\\users\\sazha\\anaconda3\\lib\\site-packages (from python-dateutil>=2.8.1->pandas==1.5.1->modin) (1.16.0)\n",
      "Requirement already satisfied: pyparsing>=2.0.2 in c:\\users\\sazha\\anaconda3\\lib\\site-packages (from packaging->modin) (3.0.4)\n",
      "Note: you may need to restart the kernel to use updated packages.\n"
     ]
    }
   ],
   "source": [
    "pip install modin"
   ]
  },
  {
   "cell_type": "code",
   "execution_count": 8,
   "id": "4dc73799",
   "metadata": {},
   "outputs": [
    {
     "name": "stdout",
     "output_type": "stream",
     "text": [
      "Requirement already satisfied: ray in c:\\users\\sazha\\anaconda3\\lib\\site-packages (2.0.1)\n",
      "Requirement already satisfied: jsonschema in c:\\users\\sazha\\anaconda3\\lib\\site-packages (from ray) (3.2.0)\n",
      "Requirement already satisfied: virtualenv in c:\\users\\sazha\\anaconda3\\lib\\site-packages (from ray) (20.16.6)\n",
      "Requirement already satisfied: requests in c:\\users\\sazha\\anaconda3\\lib\\site-packages (from ray) (2.26.0)\n",
      "Requirement already satisfied: grpcio<=1.43.0,>=1.32.0 in c:\\users\\sazha\\anaconda3\\lib\\site-packages (from ray) (1.43.0)\n",
      "Requirement already satisfied: protobuf<4.0.0,>=3.15.3 in c:\\users\\sazha\\anaconda3\\lib\\site-packages (from ray) (3.20.3)\n",
      "Requirement already satisfied: pyyaml in c:\\users\\sazha\\anaconda3\\lib\\site-packages (from ray) (6.0)\n",
      "Requirement already satisfied: click<=8.0.4,>=7.0 in c:\\users\\sazha\\anaconda3\\lib\\site-packages (from ray) (8.0.3)\n",
      "Requirement already satisfied: filelock in c:\\users\\sazha\\anaconda3\\lib\\site-packages (from ray) (3.8.0)\n",
      "Requirement already satisfied: numpy>=1.19.3 in c:\\users\\sazha\\anaconda3\\lib\\site-packages (from ray) (1.20.3)\n",
      "Requirement already satisfied: aiosignal in c:\\users\\sazha\\anaconda3\\lib\\site-packages (from ray) (1.2.0)\n",
      "Requirement already satisfied: frozenlist in c:\\users\\sazha\\anaconda3\\lib\\site-packages (from ray) (1.3.1)\n",
      "Requirement already satisfied: msgpack<2.0.0,>=1.0.0 in c:\\users\\sazha\\anaconda3\\lib\\site-packages (from ray) (1.0.2)\n",
      "Requirement already satisfied: attrs in c:\\users\\sazha\\anaconda3\\lib\\site-packages (from ray) (21.2.0)\n",
      "Requirement already satisfied: colorama in c:\\users\\sazha\\anaconda3\\lib\\site-packages (from click<=8.0.4,>=7.0->ray) (0.4.4)\n",
      "Requirement already satisfied: six>=1.5.2 in c:\\users\\sazha\\anaconda3\\lib\\site-packages (from grpcio<=1.43.0,>=1.32.0->ray) (1.16.0)\n",
      "Requirement already satisfied: setuptools in c:\\users\\sazha\\anaconda3\\lib\\site-packages (from jsonschema->ray) (58.0.4)\n",
      "Requirement already satisfied: pyrsistent>=0.14.0 in c:\\users\\sazha\\anaconda3\\lib\\site-packages (from jsonschema->ray) (0.18.0)\n",
      "Requirement already satisfied: idna<4,>=2.5 in c:\\users\\sazha\\anaconda3\\lib\\site-packages (from requests->ray) (3.2)\n",
      "Requirement already satisfied: charset-normalizer~=2.0.0 in c:\\users\\sazha\\anaconda3\\lib\\site-packages (from requests->ray) (2.0.4)\n",
      "Requirement already satisfied: certifi>=2017.4.17 in c:\\users\\sazha\\anaconda3\\lib\\site-packages (from requests->ray) (2021.10.8)\n",
      "Requirement already satisfied: urllib3<1.27,>=1.21.1 in c:\\users\\sazha\\anaconda3\\lib\\site-packages (from requests->ray) (1.26.7)\n",
      "Requirement already satisfied: platformdirs<3,>=2.4 in c:\\users\\sazha\\anaconda3\\lib\\site-packages (from virtualenv->ray) (2.5.2)\n",
      "Requirement already satisfied: distlib<1,>=0.3.6 in c:\\users\\sazha\\anaconda3\\lib\\site-packages (from virtualenv->ray) (0.3.6)\n",
      "Note: you may need to restart the kernel to use updated packages.\n"
     ]
    }
   ],
   "source": [
    "pip install ray"
   ]
  },
  {
   "cell_type": "code",
   "execution_count": 13,
   "id": "7c2b0a7b",
   "metadata": {},
   "outputs": [
    {
     "name": "stdout",
     "output_type": "stream",
     "text": [
      "Requirement already satisfied: pandas in c:\\users\\sazha\\anaconda3\\lib\\site-packages (1.5.1)\n",
      "Requirement already satisfied: pytz>=2020.1 in c:\\users\\sazha\\anaconda3\\lib\\site-packages (from pandas) (2021.3)\n",
      "Requirement already satisfied: python-dateutil>=2.8.1 in c:\\users\\sazha\\anaconda3\\lib\\site-packages (from pandas) (2.8.2)\n",
      "Requirement already satisfied: numpy>=1.20.3 in c:\\users\\sazha\\anaconda3\\lib\\site-packages (from pandas) (1.20.3)\n",
      "Requirement already satisfied: six>=1.5 in c:\\users\\sazha\\anaconda3\\lib\\site-packages (from python-dateutil>=2.8.1->pandas) (1.16.0)\n",
      "Note: you may need to restart the kernel to use updated packages.\n"
     ]
    }
   ],
   "source": [
    "pip install pandas "
   ]
  },
  {
   "cell_type": "code",
   "execution_count": 9,
   "id": "66b25ddf",
   "metadata": {},
   "outputs": [
    {
     "name": "stderr",
     "output_type": "stream",
     "text": [
      "2022-11-09 07:08:27,291\tINFO worker.py:1518 -- Started a local Ray instance.\n",
      "UserWarning: When using a pre-initialized Ray cluster, please ensure that the runtime env sets environment variable __MODIN_AUTOIMPORT_PANDAS__ to 1\n"
     ]
    },
    {
     "name": "stdout",
     "output_type": "stream",
     "text": [
      "Read csv with modin and ray:  1.5668084621429443 sec\n"
     ]
    }
   ],
   "source": [
    "import modin.pandas as pd\n",
    "import ray\n",
    "ray.shutdown()\n",
    "ray.init()\n",
    "start = time.time()\n",
    "df = pd.read_csv('E:\\Anitha\\Data_Glacier\\GitHub\\VC\\Week6\\Rate.csv')\n",
    "end = time.time()\n",
    "print(\"Read csv with modin and ray: \",(end-start),\"sec\")"
   ]
  },
  {
   "cell_type": "code",
   "execution_count": 10,
   "id": "bfcd2c53",
   "metadata": {},
   "outputs": [],
   "source": [
    "#Here Dask is better than Pandas, Modin and Ray\n",
    "\n",
    "from dask import dataframe as dd\n",
    "df = dd.read_csv('E:\\Anitha\\Data_Glacier\\GitHub\\VC\\Week6\\Rate.csv',delimiter=',')\n"
   ]
  },
  {
   "cell_type": "code",
   "execution_count": 11,
   "id": "cb3e93de",
   "metadata": {},
   "outputs": [
    {
     "name": "stdout",
     "output_type": "stream",
     "text": [
      "<class 'dask.dataframe.core.DataFrame'>\n",
      "Columns: 24 entries, BusinessYear to RowNumber\n",
      "dtypes: object(9), float64(9), int64(6)"
     ]
    },
    {
     "name": "stderr",
     "output_type": "stream",
     "text": [
      "FutureWarning: iteritems is deprecated and will be removed in a future version. Use .items instead.\n"
     ]
    }
   ],
   "source": [
    "df.info()"
   ]
  },
  {
   "cell_type": "code",
   "execution_count": 12,
   "id": "0d0cb228",
   "metadata": {},
   "outputs": [
    {
     "data": {
      "text/plain": [
       "67"
      ]
     },
     "execution_count": 12,
     "metadata": {},
     "output_type": "execute_result"
    }
   ],
   "source": [
    "len(df.index)\n"
   ]
  },
  {
   "cell_type": "code",
   "execution_count": 19,
   "id": "72999819",
   "metadata": {},
   "outputs": [
    {
     "data": {
      "text/plain": [
       "24"
      ]
     },
     "execution_count": 19,
     "metadata": {},
     "output_type": "execute_result"
    }
   ],
   "source": [
    "#No, of Columns\n",
    "len(df.columns)"
   ]
  },
  {
   "cell_type": "code",
   "execution_count": 18,
   "id": "cd2b8dc6",
   "metadata": {},
   "outputs": [
    {
     "name": "stderr",
     "output_type": "stream",
     "text": [
      "FutureWarning: The default value of regex will change from True to False in a future version.\n"
     ]
    }
   ],
   "source": [
    "# remove special character\n",
    "df.columns=df.columns.str.replace('[#,@,&]','')"
   ]
  },
  {
   "cell_type": "code",
   "execution_count": 19,
   "id": "a5cd7070",
   "metadata": {},
   "outputs": [],
   "source": [
    "#To remove white space from columns\n",
    "df.columns = df.columns.str.replace(' ', '')"
   ]
  },
  {
   "cell_type": "code",
   "execution_count": 20,
   "id": "9c7099db",
   "metadata": {},
   "outputs": [
    {
     "data": {
      "text/plain": [
       "Index(['BusinessYear', 'StateCode', 'IssuerId', 'SourceName', 'VersionNum',\n",
       "       'ImportDate', 'IssuerId2', 'FederalTIN', 'RateEffectiveDate',\n",
       "       'RateExpirationDate', 'PlanId', 'RatingAreaId', 'Tobacco', 'Age',\n",
       "       'IndividualRate', 'IndividualTobaccoRate', 'Couple',\n",
       "       'PrimarySubscriberAndOneDependent', 'PrimarySubscriberAndTwoDependents',\n",
       "       'PrimarySubscriberAndThreeOrMoreDependents', 'CoupleAndOneDependent',\n",
       "       'CoupleAndTwoDependents', 'CoupleAndThreeOrMoreDependents',\n",
       "       'RowNumber'],\n",
       "      dtype='object')"
      ]
     },
     "execution_count": 20,
     "metadata": {},
     "output_type": "execute_result"
    }
   ],
   "source": [
    "data=df.columns\n",
    "data"
   ]
  },
  {
   "cell_type": "code",
   "execution_count": 31,
   "id": "101b24ef",
   "metadata": {},
   "outputs": [
    {
     "name": "stdout",
     "output_type": "stream",
     "text": [
      "Requirement already satisfied: pyyaml in c:\\users\\sazha\\anaconda3\\lib\\site-packages (6.0)\n",
      "Note: you may need to restart the kernel to use updated packages.\n"
     ]
    }
   ],
   "source": [
    " pip install pyyaml"
   ]
  },
  {
   "cell_type": "code",
   "execution_count": 32,
   "id": "4a01b68b",
   "metadata": {},
   "outputs": [
    {
     "name": "stdout",
     "output_type": "stream",
     "text": [
      "Requirement already satisfied: configparser in c:\\users\\sazha\\anaconda3\\lib\\site-packages (5.3.0)\n",
      "Note: you may need to restart the kernel to use updated packages.\n"
     ]
    }
   ],
   "source": [
    " pip install configparser"
   ]
  },
  {
   "cell_type": "code",
   "execution_count": 24,
   "id": "d17e3ff0",
   "metadata": {},
   "outputs": [],
   "source": [
    "# Validation\n",
    "import logging\n",
    "import os\n",
    "import subprocess\n",
    "import yaml\n",
    "import pandas as pd\n",
    "import datetime \n",
    "import gc\n",
    "import re\n",
    "import configparser\n",
    "\n"
   ]
  },
  {
   "cell_type": "code",
   "execution_count": 70,
   "id": "6be2dfea",
   "metadata": {},
   "outputs": [
    {
     "name": "stdout",
     "output_type": "stream",
     "text": [
      "Overwriting utility.py\n"
     ]
    }
   ],
   "source": [
    "%%writefile utility.py\n",
    "\n",
    "def read_config_file(filepath):\n",
    "    with open(filepath, 'r') as stream:\n",
    "        try:\n",
    "            return yaml.load(stream, Loader=yaml.Loader)\n",
    "        except yaml.YAMLError as exc:\n",
    "            logging.error(exc)\n",
    "\n",
    "def col_header_val(df,table_config):\n",
    "    df.columns = df.columns.str.lower()\n",
    "    df.columns = df.columns.str.replace('[^\\w]','_',regex=True)\n",
    "    df.columns = list(map(lambda x: x.strip('_'), list(df.columns)))\n",
    "    df.columns = list(map(lambda x: replacer(x,'_'), list(df.columns)))\n",
    "    expected_col = list(map(lambda x: x.lower(),  table_config['columns']))\n",
    "    expected_col.sort()\n",
    "    df.columns =list(map(lambda x: x.lower(), list(df.columns)))\n",
    "    df = df.reindex(sorted(df.columns), axis=1)\n",
    "    if len(df.columns) == len(expected_col) and list(expected_col)  == list(df.columns):\n",
    "        print(\"column name and column length validation passed\")\n",
    "        return 1\n",
    "    else:\n",
    "        print(\"column name and column length validation failed\")\n",
    "        mismatched_columns_file = list(set(df.columns).difference(expected_col))\n",
    "        print(\"Following File columns are not in the YAML file\",mismatched_columns_file)\n",
    "        missing_YAML_file = list(set(expected_col).difference(df.columns))\n",
    "        print(\"Following YAML columns are not in the file uploaded\",missing_YAML_file)\n",
    "        logging.info(f'df columns: {df.columns}')\n",
    "        logging.info(f'expected columns: {expected_col}')\n",
    "        return 0\n"
   ]
  },
  {
   "cell_type": "code",
   "execution_count": 71,
   "id": "9736838e",
   "metadata": {},
   "outputs": [
    {
     "name": "stdout",
     "output_type": "stream",
     "text": [
      "Overwriting store.yaml\n"
     ]
    }
   ],
   "source": [
    "%%writefile store.yaml\n",
    "file_type: csv\n",
    "dataset_name: file\n",
    "file_name: Rate\n",
    "table_name: edsurv\n",
    "inbound_delimiter: \",\"\n",
    "outbound_delimiter: \"|\"\n",
    "skip_leading_rows: 1\n",
    "columns: \n",
    "    - BusinessYear\n",
    "      - StateCode\n",
    "      - IssuerId\n",
    "      - SourceName\n",
    "      - VersionNum\n",
    "      - ImportDate\n",
    "      - IssuerId2\n",
    "      - FederalTIN\n",
    "      - RateEffectiveDate\n",
    "      - RateExpirationDate\n",
    "      - PlanId\n",
    "      - RatingAreaId\n",
    "      - Tobacco\n",
    "      - Age\n",
    "      - IndividualRate\n",
    "      - IndividualTobaccoRate\n",
    "      - Couple\n",
    "      - PrimarySubscriberAndOneDependent\n",
    "      - PrimarySubscriberAndTwoDependents\n",
    "      - PrimarySubscriberAndThreeOrMoreDependents\n",
    "      - CoupleAndOneDependent\n",
    "      - CoupleAndTwoDependents\n",
    "      - CoupleAndThreeOrMoreDependents\n",
    "      - RowNumber"
   ]
  },
  {
   "cell_type": "code",
   "execution_count": 53,
   "id": "f3be731c",
   "metadata": {},
   "outputs": [
    {
     "name": "stderr",
     "output_type": "stream",
     "text": [
      "FutureWarning: the 'line_terminator'' keyword is deprecated, use 'lineterminator' instead.\n"
     ]
    },
    {
     "data": {
      "text/plain": [
       "['C:/Users/sazha/Rate.csv.gz\\\\0.part']"
      ]
     },
     "execution_count": 53,
     "metadata": {},
     "output_type": "execute_result"
    }
   ],
   "source": [
    "import datetime\n",
    "import csv\n",
    "import gzip\n",
    "\n",
    "from dask import dataframe as ddf\n",
    "df1 = dd.read_csv('E:\\Anitha\\Data_Glacier\\GitHub\\VC\\Week6\\Rate.csv')\n",
    "\n",
    "# Write csv in gz format in pipe separated text file (|)\n",
    "df1.to_csv('Rate.csv.gz',\n",
    "          sep='|',\n",
    "          header=True,\n",
    "          index=False,\n",
    "          quoting=csv.QUOTE_ALL,\n",
    "          compression='gzip',\n",
    "          quotechar='\"',\n",
    "          doublequote=True,\n",
    "          line_terminator='\\n')"
   ]
  },
  {
   "cell_type": "code",
   "execution_count": 58,
   "id": "bfd11337",
   "metadata": {},
   "outputs": [
    {
     "name": "stdout",
     "output_type": "stream",
     "text": [
      "0.part\n"
     ]
    }
   ],
   "source": [
    "#number of files in gz format folder\n",
    "import os\n",
    "files = os.listdir(r'C:\\Users\\sazha\\Rate.csv.gz')\n",
    "for file in files:\n",
    "    print(file)"
   ]
  },
  {
   "cell_type": "code",
   "execution_count": 10,
   "id": "0cf19b43",
   "metadata": {},
   "outputs": [
    {
     "name": "stdout",
     "output_type": "stream",
     "text": [
      "0\n"
     ]
    }
   ],
   "source": [
    "#size of the gz format folder\n",
    "#os.path.getsize(r'C:\\Users\\sazha\\Rate.csv.gz')\n",
    "size = os.path.getsize(r'C:\\Users\\sazha\\Rate.csv.gz')\n",
    "print(size)\n",
    "                \n",
    "                \n",
    "                \n",
    "                \n",
    "                \n",
    "                \n",
    "                \n",
    "                "
   ]
  }
 ],
 "metadata": {
  "kernelspec": {
   "display_name": "Python 3 (ipykernel)",
   "language": "python",
   "name": "python3"
  },
  "language_info": {
   "codemirror_mode": {
    "name": "ipython",
    "version": 3
   },
   "file_extension": ".py",
   "mimetype": "text/x-python",
   "name": "python",
   "nbconvert_exporter": "python",
   "pygments_lexer": "ipython3",
   "version": "3.9.7"
  }
 },
 "nbformat": 4,
 "nbformat_minor": 5
}
