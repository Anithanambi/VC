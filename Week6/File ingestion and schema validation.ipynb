{
 "cells": [
  {
   "cell_type": "code",
   "execution_count": 1,
   "id": "67978507",
   "metadata": {},
   "outputs": [],
   "source": [
    "\n",
    "import os\n",
    "import time\n",
    "#import modin.pandas as pd\n",
    "\n",
    "\n",
    "\n"
   ]
  },
  {
   "cell_type": "code",
   "execution_count": 2,
   "id": "0ee25c01",
   "metadata": {},
   "outputs": [
    {
     "data": {
      "text/plain": [
       "13899"
      ]
     },
     "execution_count": 2,
     "metadata": {},
     "output_type": "execute_result"
    }
   ],
   "source": [
    "os.path.getsize('E:\\Anitha\\Data_Glacier\\GitHub\\VC\\Week6\\Rate.csv')"
   ]
  },
  {
   "cell_type": "code",
   "execution_count": 3,
   "id": "1ab2f42a",
   "metadata": {},
   "outputs": [
    {
     "name": "stdout",
     "output_type": "stream",
     "text": [
      "Read csv with dask:  0.013041973114013672 sec\n"
     ]
    }
   ],
   "source": [
    "#Read in the data with Dask\n",
    "from dask import dataframe as dd\n",
    "start = time.time()\n",
    "dask_df = dd.read_csv('E:\\Anitha\\Data_Glacier\\GitHub\\VC\\Week6\\Rate.csv')\n",
    "end = time.time()\n",
    "print(\"Read csv with dask: \",(end-start),\"sec\")"
   ]
  },
  {
   "cell_type": "code",
   "execution_count": 4,
   "id": "a0f83cf3",
   "metadata": {},
   "outputs": [
    {
     "name": "stdout",
     "output_type": "stream",
     "text": [
      "Read csv with pandas:  0.008985519409179688 sec\n"
     ]
    }
   ],
   "source": [
    "#Read in the data with Pandas\n",
    "import pandas as pd\n",
    "start = time.time()\n",
    "df = pd.read_csv('E:\\Anitha\\Data_Glacier\\GitHub\\VC\\Week6\\Rate.csv')\n",
    "end = time.time()\n",
    "print(\"Read csv with pandas: \",(end-start),\"sec\")"
   ]
  },
  {
   "cell_type": "code",
   "execution_count": 5,
   "id": "d18f6427",
   "metadata": {},
   "outputs": [
    {
     "name": "stdout",
     "output_type": "stream",
     "text": [
      "Requirement already satisfied: modin in c:\\users\\sazha\\anaconda3\\lib\\site-packages (0.16.2)\n",
      "Requirement already satisfied: numpy>=1.18.5 in c:\\users\\sazha\\anaconda3\\lib\\site-packages (from modin) (1.20.3)\n",
      "Requirement already satisfied: packaging in c:\\users\\sazha\\anaconda3\\lib\\site-packages (from modin) (21.0)\n",
      "Requirement already satisfied: psutil in c:\\users\\sazha\\anaconda3\\lib\\site-packages (from modin) (5.8.0)\n",
      "Requirement already satisfied: pandas==1.5.1 in c:\\users\\sazha\\anaconda3\\lib\\site-packages (from modin) (1.5.1)\n",
      "Requirement already satisfied: fsspec in c:\\users\\sazha\\anaconda3\\lib\\site-packages (from modin) (2021.10.1)\n",
      "Requirement already satisfied: pytz>=2020.1 in c:\\users\\sazha\\anaconda3\\lib\\site-packages (from pandas==1.5.1->modin) (2021.3)\n",
      "Requirement already satisfied: python-dateutil>=2.8.1 in c:\\users\\sazha\\anaconda3\\lib\\site-packages (from pandas==1.5.1->modin) (2.8.2)\n",
      "Requirement already satisfied: six>=1.5 in c:\\users\\sazha\\anaconda3\\lib\\site-packages (from python-dateutil>=2.8.1->pandas==1.5.1->modin) (1.16.0)\n",
      "Requirement already satisfied: pyparsing>=2.0.2 in c:\\users\\sazha\\anaconda3\\lib\\site-packages (from packaging->modin) (3.0.4)\n",
      "Note: you may need to restart the kernel to use updated packages.\n"
     ]
    }
   ],
   "source": [
    "pip install modin"
   ]
  },
  {
   "cell_type": "code",
   "execution_count": 8,
   "id": "4dc73799",
   "metadata": {},
   "outputs": [
    {
     "name": "stdout",
     "output_type": "stream",
     "text": [
      "Collecting ray\n",
      "  Downloading ray-2.0.1-cp39-cp39-win_amd64.whl (20.7 MB)\n",
      "Requirement already satisfied: click<=8.0.4,>=7.0 in c:\\users\\sazha\\anaconda3\\lib\\site-packages (from ray) (8.0.3)\n",
      "Requirement already satisfied: jsonschema in c:\\users\\sazha\\anaconda3\\lib\\site-packages (from ray) (3.2.0)\n",
      "Requirement already satisfied: msgpack<2.0.0,>=1.0.0 in c:\\users\\sazha\\anaconda3\\lib\\site-packages (from ray) (1.0.2)\n",
      "Requirement already satisfied: filelock in c:\\users\\sazha\\anaconda3\\lib\\site-packages (from ray) (3.3.1)\n",
      "Requirement already satisfied: pyyaml in c:\\users\\sazha\\anaconda3\\lib\\site-packages (from ray) (6.0)\n",
      "Collecting aiosignal\n",
      "  Downloading aiosignal-1.2.0-py3-none-any.whl (8.2 kB)\n",
      "Collecting virtualenv\n",
      "  Downloading virtualenv-20.16.6-py3-none-any.whl (8.8 MB)\n",
      "Requirement already satisfied: attrs in c:\\users\\sazha\\anaconda3\\lib\\site-packages (from ray) (21.2.0)\n",
      "Collecting grpcio<=1.43.0,>=1.32.0\n",
      "  Downloading grpcio-1.43.0-cp39-cp39-win_amd64.whl (3.4 MB)\n",
      "Requirement already satisfied: requests in c:\\users\\sazha\\anaconda3\\lib\\site-packages (from ray) (2.26.0)\n",
      "Collecting frozenlist\n",
      "  Downloading frozenlist-1.3.1-cp39-cp39-win_amd64.whl (34 kB)\n",
      "Collecting protobuf<4.0.0,>=3.15.3\n",
      "  Downloading protobuf-3.20.3-cp39-cp39-win_amd64.whl (904 kB)\n",
      "Requirement already satisfied: numpy>=1.19.3 in c:\\users\\sazha\\anaconda3\\lib\\site-packages (from ray) (1.20.3)\n",
      "Requirement already satisfied: colorama in c:\\users\\sazha\\anaconda3\\lib\\site-packages (from click<=8.0.4,>=7.0->ray) (0.4.4)\n",
      "Requirement already satisfied: six>=1.5.2 in c:\\users\\sazha\\anaconda3\\lib\\site-packages (from grpcio<=1.43.0,>=1.32.0->ray) (1.16.0)\n",
      "Requirement already satisfied: pyrsistent>=0.14.0 in c:\\users\\sazha\\anaconda3\\lib\\site-packages (from jsonschema->ray) (0.18.0)\n",
      "Requirement already satisfied: setuptools in c:\\users\\sazha\\anaconda3\\lib\\site-packages (from jsonschema->ray) (58.0.4)\n",
      "Requirement already satisfied: idna<4,>=2.5 in c:\\users\\sazha\\anaconda3\\lib\\site-packages (from requests->ray) (3.2)\n",
      "Requirement already satisfied: certifi>=2017.4.17 in c:\\users\\sazha\\anaconda3\\lib\\site-packages (from requests->ray) (2021.10.8)\n",
      "Requirement already satisfied: urllib3<1.27,>=1.21.1 in c:\\users\\sazha\\anaconda3\\lib\\site-packages (from requests->ray) (1.26.7)\n",
      "Requirement already satisfied: charset-normalizer~=2.0.0 in c:\\users\\sazha\\anaconda3\\lib\\site-packages (from requests->ray) (2.0.4)\n",
      "Collecting platformdirs<3,>=2.4\n",
      "  Downloading platformdirs-2.5.2-py3-none-any.whl (14 kB)\n",
      "Collecting distlib<1,>=0.3.6\n",
      "  Downloading distlib-0.3.6-py2.py3-none-any.whl (468 kB)\n",
      "Collecting filelock\n",
      "  Downloading filelock-3.8.0-py3-none-any.whl (10 kB)\n",
      "Installing collected packages: platformdirs, frozenlist, filelock, distlib, virtualenv, protobuf, grpcio, aiosignal, ray\n",
      "  Attempting uninstall: filelock\n",
      "    Found existing installation: filelock 3.3.1\n",
      "    Uninstalling filelock-3.3.1:\n",
      "      Successfully uninstalled filelock-3.3.1\n",
      "Successfully installed aiosignal-1.2.0 distlib-0.3.6 filelock-3.8.0 frozenlist-1.3.1 grpcio-1.43.0 platformdirs-2.5.2 protobuf-3.20.3 ray-2.0.1 virtualenv-20.16.6\n",
      "Note: you may need to restart the kernel to use updated packages.\n"
     ]
    }
   ],
   "source": [
    "pip install ray"
   ]
  },
  {
   "cell_type": "code",
   "execution_count": 6,
   "id": "7c2b0a7b",
   "metadata": {},
   "outputs": [
    {
     "name": "stdout",
     "output_type": "stream",
     "text": [
      "Requirement already satisfied: pandas in c:\\users\\sazha\\anaconda3\\lib\\site-packages (1.5.1)\n",
      "Requirement already satisfied: python-dateutil>=2.8.1 in c:\\users\\sazha\\anaconda3\\lib\\site-packages (from pandas) (2.8.2)\n",
      "Requirement already satisfied: numpy>=1.20.3 in c:\\users\\sazha\\anaconda3\\lib\\site-packages (from pandas) (1.20.3)\n",
      "Requirement already satisfied: pytz>=2020.1 in c:\\users\\sazha\\anaconda3\\lib\\site-packages (from pandas) (2021.3)\n",
      "Requirement already satisfied: six>=1.5 in c:\\users\\sazha\\anaconda3\\lib\\site-packages (from python-dateutil>=2.8.1->pandas) (1.16.0)\n",
      "Note: you may need to restart the kernel to use updated packages.\n"
     ]
    }
   ],
   "source": [
    "pip install pandas "
   ]
  },
  {
   "cell_type": "code",
   "execution_count": 10,
   "id": "66b25ddf",
   "metadata": {},
   "outputs": [
    {
     "name": "stderr",
     "output_type": "stream",
     "text": [
      "2022-10-31 11:28:46,963\tINFO worker.py:1518 -- Started a local Ray instance.\n",
      "UserWarning: When using a pre-initialized Ray cluster, please ensure that the runtime env sets environment variable __MODIN_AUTOIMPORT_PANDAS__ to 1\n"
     ]
    },
    {
     "name": "stdout",
     "output_type": "stream",
     "text": [
      "Read csv with modin and ray:  1.5502071380615234 sec\n"
     ]
    }
   ],
   "source": [
    "import modin.pandas as pd\n",
    "import ray\n",
    "ray.shutdown()\n",
    "ray.init()\n",
    "start = time.time()\n",
    "df = pd.read_csv('E:\\Anitha\\Data_Glacier\\GitHub\\VC\\Week6\\Rate.csv')\n",
    "end = time.time()\n",
    "print(\"Read csv with modin and ray: \",(end-start),\"sec\")"
   ]
  },
  {
   "cell_type": "code",
   "execution_count": 12,
   "id": "bfcd2c53",
   "metadata": {},
   "outputs": [],
   "source": [
    "#Here Dask is better than Pandas, Modin and Ray\n",
    "\n",
    "from dask import dataframe as dd\n",
    "df = dd.read_csv('E:\\Anitha\\Data_Glacier\\GitHub\\VC\\Week6\\Rate.csv',delimiter=',')\n"
   ]
  },
  {
   "cell_type": "code",
   "execution_count": 13,
   "id": "cb3e93de",
   "metadata": {},
   "outputs": [
    {
     "name": "stdout",
     "output_type": "stream",
     "text": [
      "<class 'dask.dataframe.core.DataFrame'>\n",
      "Columns: 24 entries, BusinessYear to RowNumber\n",
      "dtypes: object(9), float64(9), int64(6)"
     ]
    },
    {
     "name": "stderr",
     "output_type": "stream",
     "text": [
      "FutureWarning: iteritems is deprecated and will be removed in a future version. Use .items instead.\n"
     ]
    }
   ],
   "source": [
    "df.info()"
   ]
  },
  {
   "cell_type": "code",
   "execution_count": 14,
   "id": "0d0cb228",
   "metadata": {},
   "outputs": [
    {
     "data": {
      "text/plain": [
       "67"
      ]
     },
     "execution_count": 14,
     "metadata": {},
     "output_type": "execute_result"
    }
   ],
   "source": [
    "len(df.index)\n"
   ]
  },
  {
   "cell_type": "code",
   "execution_count": 15,
   "id": "72999819",
   "metadata": {},
   "outputs": [
    {
     "data": {
      "text/plain": [
       "24"
      ]
     },
     "execution_count": 15,
     "metadata": {},
     "output_type": "execute_result"
    }
   ],
   "source": [
    "#No, of Columns\n",
    "len(df.columns)"
   ]
  },
  {
   "cell_type": "code",
   "execution_count": 16,
   "id": "cd2b8dc6",
   "metadata": {},
   "outputs": [
    {
     "name": "stderr",
     "output_type": "stream",
     "text": [
      "FutureWarning: The default value of regex will change from True to False in a future version.\n"
     ]
    }
   ],
   "source": [
    "# remove special character\n",
    "df.columns=df.columns.str.replace('[#,@,&]','')"
   ]
  },
  {
   "cell_type": "code",
   "execution_count": 17,
   "id": "a5cd7070",
   "metadata": {},
   "outputs": [],
   "source": [
    "#To remove white space from columns\n",
    "df.columns = df.columns.str.replace(' ', '')"
   ]
  },
  {
   "cell_type": "code",
   "execution_count": 18,
   "id": "9c7099db",
   "metadata": {},
   "outputs": [
    {
     "data": {
      "text/plain": [
       "Index(['BusinessYear', 'StateCode', 'IssuerId', 'SourceName', 'VersionNum',\n",
       "       'ImportDate', 'IssuerId2', 'FederalTIN', 'RateEffectiveDate',\n",
       "       'RateExpirationDate', 'PlanId', 'RatingAreaId', 'Tobacco', 'Age',\n",
       "       'IndividualRate', 'IndividualTobaccoRate', 'Couple',\n",
       "       'PrimarySubscriberAndOneDependent', 'PrimarySubscriberAndTwoDependents',\n",
       "       'PrimarySubscriberAndThreeOrMoreDependents', 'CoupleAndOneDependent',\n",
       "       'CoupleAndTwoDependents', 'CoupleAndThreeOrMoreDependents',\n",
       "       'RowNumber'],\n",
       "      dtype='object')"
      ]
     },
     "execution_count": 18,
     "metadata": {},
     "output_type": "execute_result"
    }
   ],
   "source": [
    "data=df.columns\n",
    "data"
   ]
  },
  {
   "cell_type": "code",
   "execution_count": 26,
   "id": "848265e1",
   "metadata": {},
   "outputs": [
    {
     "name": "stdout",
     "output_type": "stream",
     "text": [
      "Requirement already satisfied: pyyaml in c:\\users\\sazha\\anaconda3\\lib\\site-packages (6.0)\n",
      "Note: you may need to restart the kernel to use updated packages.\n"
     ]
    }
   ],
   "source": [
    " pip install pyyaml"
   ]
  },
  {
   "cell_type": "code",
   "execution_count": 32,
   "id": "4b8ab2c4",
   "metadata": {},
   "outputs": [
    {
     "name": "stdout",
     "output_type": "stream",
     "text": [
      "Collecting configparser\n",
      "  Downloading configparser-5.3.0-py3-none-any.whl (19 kB)\n",
      "Installing collected packages: configparser\n",
      "Successfully installed configparser-5.3.0\n",
      "Note: you may need to restart the kernel to use updated packages.\n"
     ]
    }
   ],
   "source": [
    " pip install configparser"
   ]
  },
  {
   "cell_type": "code",
   "execution_count": 45,
   "id": "d17e3ff0",
   "metadata": {},
   "outputs": [],
   "source": [
    "# Validation\n",
    "import logging\n",
    "import os\n",
    "import subprocess\n",
    "import yaml\n",
    "import pandas as pd\n",
    "import datetime \n",
    "import gc\n",
    "import re\n",
    "import configparser\n",
    "\n"
   ]
  },
  {
   "cell_type": "code",
   "execution_count": 47,
   "id": "6be2dfea",
   "metadata": {},
   "outputs": [
    {
     "name": "stdout",
     "output_type": "stream",
     "text": [
      "Overwriting utility.py\n"
     ]
    }
   ],
   "source": [
    "%%writefile utility.py\n",
    "\n",
    "def read_config_file(filepath):\n",
    "    with open(filepath, 'r') as stream:\n",
    "        try:\n",
    "            return yaml.load(stream, Loader=yaml.Loader)\n",
    "        except yaml.YAMLError as exc:\n",
    "            logging.error(exc)\n",
    "\n",
    "def col_header_val(df,table_config):\n",
    "    df.columns = df.columns.str.lower()\n",
    "    df.columns = df.columns.str.replace('[^\\w]','_',regex=True)\n",
    "    df.columns = list(map(lambda x: x.strip('_'), list(df.columns)))\n",
    "    df.columns = list(map(lambda x: replacer(x,'_'), list(df.columns)))\n",
    "    expected_col = list(map(lambda x: x.lower(),  table_config['columns']))\n",
    "    expected_col.sort()\n",
    "    df.columns =list(map(lambda x: x.lower(), list(df.columns)))\n",
    "    df = df.reindex(sorted(df.columns), axis=1)\n",
    "    if len(df.columns) == len(expected_col) and list(expected_col)  == list(df.columns):\n",
    "        print(\"column name and column length validation passed\")\n",
    "        return 1\n",
    "    else:\n",
    "        print(\"column name and column length validation failed\")\n",
    "        mismatched_columns_file = list(set(df.columns).difference(expected_col))\n",
    "        print(\"Following File columns are not in the YAML file\",mismatched_columns_file)\n",
    "        missing_YAML_file = list(set(expected_col).difference(df.columns))\n",
    "        print(\"Following YAML columns are not in the file uploaded\",missing_YAML_file)\n",
    "        logging.info(f'df columns: {df.columns}')\n",
    "        logging.info(f'expected columns: {expected_col}')\n",
    "        return 0"
   ]
  },
  {
   "cell_type": "code",
   "execution_count": 48,
   "id": "9736838e",
   "metadata": {},
   "outputs": [
    {
     "name": "stdout",
     "output_type": "stream",
     "text": [
      "Overwriting store.yaml\n"
     ]
    }
   ],
   "source": [
    "%%writefile store.yaml\n",
    "file_type: csv\n",
    "dataset_name: file\n",
    "file_name: Rate\n",
    "table_name: edsurv\n",
    "inbound_delimiter: \",\"\n",
    "outbound_delimiter: \"|\"\n",
    "skip_leading_rows: 1\n",
    "columns: \n",
    "    - BusinessYear\n",
    "      - StateCode\n",
    "      - IssuerId\n",
    "      - SourceName\n",
    "      - VersionNum\n",
    "      - ImportDate\n",
    "      - IssuerId2\n",
    "      - FederalTIN\n",
    "      - RateEffectiveDate\n",
    "      - RateExpirationDate\n",
    "      - PlanId\n",
    "      - RatingAreaId\n",
    "      - Tobacco\n",
    "      - Age\n",
    "      - IndividualRate\n",
    "      - IndividualTobaccoRate\n",
    "      - Couple\n",
    "      - PrimarySubscriberAndOneDependent\n",
    "      - PrimarySubscriberAndTwoDependents\n",
    "      - PrimarySubscriberAndThreeOrMoreDependents\n",
    "      - CoupleAndOneDependent\n",
    "      - CoupleAndTwoDependents\n",
    "      - CoupleAndThreeOrMoreDependents\n",
    "      - RowNumber"
   ]
  },
  {
   "cell_type": "code",
   "execution_count": 50,
   "id": "5d4ef3f4",
   "metadata": {},
   "outputs": [
    {
     "ename": "NameError",
     "evalue": "name 'yaml' is not defined",
     "output_type": "error",
     "traceback": [
      "\u001b[1;31m---------------------------------------------------------------------------\u001b[0m",
      "\u001b[1;31mNameError\u001b[0m                                 Traceback (most recent call last)",
      "\u001b[1;32m~\\utility.py\u001b[0m in \u001b[0;36mread_config_file\u001b[1;34m(filepath)\u001b[0m\n\u001b[0;32m      4\u001b[0m         \u001b[1;32mtry\u001b[0m\u001b[1;33m:\u001b[0m\u001b[1;33m\u001b[0m\u001b[1;33m\u001b[0m\u001b[0m\n\u001b[1;32m----> 5\u001b[1;33m             \u001b[1;32mreturn\u001b[0m \u001b[0myaml\u001b[0m\u001b[1;33m.\u001b[0m\u001b[0mload\u001b[0m\u001b[1;33m(\u001b[0m\u001b[0mstream\u001b[0m\u001b[1;33m,\u001b[0m \u001b[0mLoader\u001b[0m\u001b[1;33m=\u001b[0m\u001b[0myaml\u001b[0m\u001b[1;33m.\u001b[0m\u001b[0mLoader\u001b[0m\u001b[1;33m)\u001b[0m\u001b[1;33m\u001b[0m\u001b[1;33m\u001b[0m\u001b[0m\n\u001b[0m\u001b[0;32m      6\u001b[0m         \u001b[1;32mexcept\u001b[0m \u001b[0myaml\u001b[0m\u001b[1;33m.\u001b[0m\u001b[0mYAMLError\u001b[0m \u001b[1;32mas\u001b[0m \u001b[0mexc\u001b[0m\u001b[1;33m:\u001b[0m\u001b[1;33m\u001b[0m\u001b[1;33m\u001b[0m\u001b[0m\n",
      "\u001b[1;31mNameError\u001b[0m: name 'yaml' is not defined",
      "\nDuring handling of the above exception, another exception occurred:\n",
      "\u001b[1;31mNameError\u001b[0m                                 Traceback (most recent call last)",
      "\u001b[1;32m~\\AppData\\Local\\Temp/ipykernel_11448/397032300.py\u001b[0m in \u001b[0;36m<module>\u001b[1;34m\u001b[0m\n\u001b[0;32m      1\u001b[0m \u001b[1;31m# Reading config file\u001b[0m\u001b[1;33m\u001b[0m\u001b[1;33m\u001b[0m\u001b[0m\n\u001b[0;32m      2\u001b[0m \u001b[1;32mimport\u001b[0m \u001b[0mutility\u001b[0m \u001b[1;32mas\u001b[0m \u001b[0mutil\u001b[0m\u001b[1;33m\u001b[0m\u001b[1;33m\u001b[0m\u001b[0m\n\u001b[1;32m----> 3\u001b[1;33m \u001b[0mconfig_data\u001b[0m \u001b[1;33m=\u001b[0m \u001b[0mutil\u001b[0m\u001b[1;33m.\u001b[0m\u001b[0mread_config_file\u001b[0m\u001b[1;33m(\u001b[0m\u001b[1;34m\"store.yaml\"\u001b[0m\u001b[1;33m)\u001b[0m\u001b[1;33m\u001b[0m\u001b[1;33m\u001b[0m\u001b[0m\n\u001b[0m",
      "\u001b[1;32m~\\utility.py\u001b[0m in \u001b[0;36mread_config_file\u001b[1;34m(filepath)\u001b[0m\n\u001b[0;32m      4\u001b[0m         \u001b[1;32mtry\u001b[0m\u001b[1;33m:\u001b[0m\u001b[1;33m\u001b[0m\u001b[1;33m\u001b[0m\u001b[0m\n\u001b[0;32m      5\u001b[0m             \u001b[1;32mreturn\u001b[0m \u001b[0myaml\u001b[0m\u001b[1;33m.\u001b[0m\u001b[0mload\u001b[0m\u001b[1;33m(\u001b[0m\u001b[0mstream\u001b[0m\u001b[1;33m,\u001b[0m \u001b[0mLoader\u001b[0m\u001b[1;33m=\u001b[0m\u001b[0myaml\u001b[0m\u001b[1;33m.\u001b[0m\u001b[0mLoader\u001b[0m\u001b[1;33m)\u001b[0m\u001b[1;33m\u001b[0m\u001b[1;33m\u001b[0m\u001b[0m\n\u001b[1;32m----> 6\u001b[1;33m         \u001b[1;32mexcept\u001b[0m \u001b[0myaml\u001b[0m\u001b[1;33m.\u001b[0m\u001b[0mYAMLError\u001b[0m \u001b[1;32mas\u001b[0m \u001b[0mexc\u001b[0m\u001b[1;33m:\u001b[0m\u001b[1;33m\u001b[0m\u001b[1;33m\u001b[0m\u001b[0m\n\u001b[0m\u001b[0;32m      7\u001b[0m             \u001b[0mlogging\u001b[0m\u001b[1;33m.\u001b[0m\u001b[0merror\u001b[0m\u001b[1;33m(\u001b[0m\u001b[0mexc\u001b[0m\u001b[1;33m)\u001b[0m\u001b[1;33m\u001b[0m\u001b[1;33m\u001b[0m\u001b[0m\n\u001b[0;32m      8\u001b[0m \u001b[1;33m\u001b[0m\u001b[0m\n",
      "\u001b[1;31mNameError\u001b[0m: name 'yaml' is not defined"
     ]
    }
   ],
   "source": [
    "# Reading config file\n",
    "import utility as util\n",
    "config_data = util.read_config_file(\"store.yaml\")\n"
   ]
  },
  {
   "cell_type": "code",
   "execution_count": 49,
   "id": "934bc563",
   "metadata": {},
   "outputs": [
    {
     "ename": "NameError",
     "evalue": "name 'config_data' is not defined",
     "output_type": "error",
     "traceback": [
      "\u001b[1;31m---------------------------------------------------------------------------\u001b[0m",
      "\u001b[1;31mNameError\u001b[0m                                 Traceback (most recent call last)",
      "\u001b[1;32m~\\AppData\\Local\\Temp/ipykernel_11448/4228448872.py\u001b[0m in \u001b[0;36m<module>\u001b[1;34m\u001b[0m\n\u001b[0;32m      1\u001b[0m \u001b[1;31m#data of config file\u001b[0m\u001b[1;33m\u001b[0m\u001b[1;33m\u001b[0m\u001b[0m\n\u001b[1;32m----> 2\u001b[1;33m \u001b[0mconfig_data\u001b[0m\u001b[1;33m\u001b[0m\u001b[1;33m\u001b[0m\u001b[0m\n\u001b[0m",
      "\u001b[1;31mNameError\u001b[0m: name 'config_data' is not defined"
     ]
    }
   ],
   "source": [
    "#data of config file\n",
    "config_data"
   ]
  },
  {
   "cell_type": "code",
   "execution_count": null,
   "id": "6f08c41f",
   "metadata": {},
   "outputs": [],
   "source": []
  }
 ],
 "metadata": {
  "kernelspec": {
   "display_name": "Python 3 (ipykernel)",
   "language": "python",
   "name": "python3"
  },
  "language_info": {
   "codemirror_mode": {
    "name": "ipython",
    "version": 3
   },
   "file_extension": ".py",
   "mimetype": "text/x-python",
   "name": "python",
   "nbconvert_exporter": "python",
   "pygments_lexer": "ipython3",
   "version": "3.9.7"
  }
 },
 "nbformat": 4,
 "nbformat_minor": 5
}
